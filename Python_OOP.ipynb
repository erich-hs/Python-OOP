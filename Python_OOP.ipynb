{
 "cells": [
  {
   "cell_type": "markdown",
   "metadata": {
    "id": "F43ls2A-I2xl"
   },
   "source": [
    "# Object-Oriented Programming in Python\n",
    "\n",
    "This is a summary notebook of my personal notes, based on the course by [Joe Marini](https://www.linkedin.com/learning/instructors/joe-marini) at LinkedIn Learning"
   ]
  },
  {
   "cell_type": "markdown",
   "metadata": {
    "id": "7zfmFcm-JShH"
   },
   "source": [
    "## 1 Object-Oriented Python"
   ]
  },
  {
   "cell_type": "markdown",
   "metadata": {
    "id": "Lxax_N7KJusN"
   },
   "source": [
    "### 1.1 Object-Oriented Programming Terms\n",
    "\n",
    "- Class: A blueprint for creating objects of a particular type\n",
    "- Methods: Regular functions that are part of a class\n",
    "- Attributes: Variables that hold data that are part of a class\n",
    "- Object: A specific instance of a class\n",
    "- Means by which a class can inherit capabilities from another"
   ]
  },
  {
   "cell_type": "markdown",
   "metadata": {
    "id": "13-dYOjJLe8S"
   },
   "source": [
    "### 1.2 Instance, methods and attributes"
   ]
  },
  {
   "cell_type": "code",
   "execution_count": 27,
   "metadata": {
    "id": "z97niH-kvyxv"
   },
   "outputs": [],
   "source": [
    "# Basic class definitions\n",
    "class Book:\n",
    "  # Class attribute\n",
    "  '''\n",
    "  Class-level attributes and methods are shared at the class level across all\n",
    "  instances of the object created from this class.\n",
    "  Capitalized attributes and methods indicate that they are class-level by\n",
    "  convention\n",
    "  '''\n",
    "  BOOK_TYPES = (\"HARDCOVER\", \"PAPERBACK\", \"EBOOK\")\n",
    "\n",
    "  # Class method\n",
    "  '''\n",
    "  A class method is a method that is bound to the class, and not the object of\n",
    "  the class. It also receives the class as an implicit first argument.\n",
    "  It can modify a class state that would apply across all the instances of the\n",
    "  class.\n",
    "  '''\n",
    "  __booklist = None\n",
    "  @classmethod\n",
    "  def getbooktypes(cls):\n",
    "    return cls.BOOK_TYPES\n",
    "\n",
    "  # Static method\n",
    "  '''\n",
    "  A static method does not receive an implicit first argument, and is also bound\n",
    "  to the class, and not the object.\n",
    "  It is inside the class, but do not modify the class state.\n",
    "  '''\n",
    "  @staticmethod\n",
    "  def getbooklist():\n",
    "    if Book.__booklist == None:\n",
    "      Book.__booklist = []\n",
    "    return Book.__booklist\n",
    "\n",
    "  # Initialization method\n",
    "  '''\n",
    "  __init__ function is called to initialize the new object with information.\n",
    "  When a method is called on a Python object, the object itself (self) gets\n",
    "  passed as first argument.\n",
    "  self is a naming convention to represent the object.\n",
    "  '''\n",
    "  def __init__(self, title, author, pages, price, booktype):\n",
    "    # Instance attributes \n",
    "    self.title = title\n",
    "    self.author = author\n",
    "    self.pages = pages\n",
    "    self.price = price\n",
    "    if (not booktype in Book.BOOK_TYPES):\n",
    "      raise ValueError(f\"{booktype} is not a valid book type\")\n",
    "    else:\n",
    "      self.booktype = booktype\n",
    "    \n",
    "    # Secret attribute\n",
    "    '''\n",
    "    A secret attribute can be defined with leading double underscore __. In this\n",
    "    cases, the python interpreter will mangle the class' attribute so that other\n",
    "    classes will get an error if they try to access it.\n",
    "    It is used to prevent subclasses from overwritting unintended attributes.\n",
    "    '''\n",
    "    self.__secret = \"This is a secret attribute\" # Turns to _Book__secret\n",
    "  \n",
    "  # getprice method\n",
    "  def getprice(self):\n",
    "    if hasattr(self, \"_discount\"):\n",
    "      return self.price - (self.price * self._discount)\n",
    "    else:\n",
    "      return self.price\n",
    "  \n",
    "  # Instance method\n",
    "  '''\n",
    "  Instance methods receive a specific object instance as an argument and\n",
    "  operate on data specific to that object instance.\n",
    "\n",
    "  The underscore _ before the attribute is a convention to give developers a\n",
    "  hint that this attribute is considered internal to the class, and should not\n",
    "  be accessed from outside the class' logic.\n",
    "  '''\n",
    "  def setdiscount(self, amount):\n",
    "    self._discount = amount"
   ]
  },
  {
   "cell_type": "code",
   "execution_count": 23,
   "metadata": {
    "id": "coHhXgXEKa7u"
   },
   "outputs": [],
   "source": [
    "# Create instances of the class\n",
    "b1 = Book(\"Brave New World\", \"Leo Tolstoy\", 1225, 39.95, \"HARDCOVER\")\n",
    "b2 = Book(\"War and Piece\", \"JD Salinger\", 234, 29.95, \"PAPERBACK\")\n",
    "b3 = Book(\"Atomic Habits\", \"James Clear\", 320, 21.66, \"EBOOK\")"
   ]
  },
  {
   "cell_type": "code",
   "execution_count": 24,
   "metadata": {
    "colab": {
     "base_uri": "https://localhost:8080/"
    },
    "id": "YyIoXlkCLFlu",
    "outputId": "e917d6a2-56d4-4909-dd1b-111f137f470c"
   },
   "outputs": [
    {
     "name": "stdout",
     "output_type": "stream",
     "text": [
      "<__main__.Book object at 0x7f686eb523d0>\n",
      "Atomic Habits\n",
      "EBOOK\n",
      "21.66\n",
      "16.245\n"
     ]
    }
   ],
   "source": [
    "# Print the class\n",
    "print(b3)\n",
    "\n",
    "# Print the attribute\n",
    "print(b3.title)\n",
    "print(b3.booktype)\n",
    "\n",
    "# Print the price via the getprice method\n",
    "print(b3.getprice())\n",
    "b3.setdiscount(0.25)\n",
    "print(b3.getprice())"
   ]
  },
  {
   "cell_type": "code",
   "execution_count": 25,
   "metadata": {
    "colab": {
     "base_uri": "https://localhost:8080/"
    },
    "id": "DltlpTIlT35F",
    "outputId": "ba663948-d40e-4587-ce73-d99bf158fb96"
   },
   "outputs": [
    {
     "name": "stdout",
     "output_type": "stream",
     "text": [
      "Book types:  ('HARDCOVER', 'PAPERBACK', 'EBOOK')\n"
     ]
    }
   ],
   "source": [
    "# Class method to get available book types\n",
    "print(\"Book types: \", Book.getbooktypes())"
   ]
  },
  {
   "cell_type": "code",
   "execution_count": 28,
   "metadata": {
    "colab": {
     "base_uri": "https://localhost:8080/"
    },
    "id": "EdKMWkFrU_kF",
    "outputId": "a11fbf33-3463-48f0-aa01-64c9f1083e91"
   },
   "outputs": [
    {
     "data": {
      "text/plain": [
       "[<__main__.Book at 0x7f686eb52110>,\n",
       " <__main__.Book at 0x7f686eb52e10>,\n",
       " <__main__.Book at 0x7f686eb523d0>]"
      ]
     },
     "execution_count": 28,
     "metadata": {},
     "output_type": "execute_result"
    }
   ],
   "source": [
    "# Static method to access a singleton object\n",
    "thebooks = Book.getbooklist()\n",
    "thebooks.append(b1)\n",
    "thebooks.append(b2)\n",
    "thebooks.append(b3)\n",
    "\n",
    "thebooks"
   ]
  },
  {
   "cell_type": "code",
   "execution_count": 29,
   "metadata": {
    "colab": {
     "base_uri": "https://localhost:8080/"
    },
    "id": "xad67gBdWGEV",
    "outputId": "c5a3cd92-d478-41a7-a5fb-6acad94ad403"
   },
   "outputs": [
    {
     "data": {
      "text/plain": [
       "[<__main__.Book at 0x7f686eb52110>,\n",
       " <__main__.Book at 0x7f686eb52e10>,\n",
       " <__main__.Book at 0x7f686eb523d0>]"
      ]
     },
     "execution_count": 29,
     "metadata": {},
     "output_type": "execute_result"
    }
   ],
   "source": [
    "# The objects are instantiated inside the class\n",
    "Book.getbooklist()"
   ]
  },
  {
   "cell_type": "code",
   "execution_count": 30,
   "metadata": {
    "colab": {
     "base_uri": "https://localhost:8080/",
     "height": 165
    },
    "id": "0lfwB7LogPI7",
    "outputId": "adf271de-5699-4b61-8590-ef49c62b13c2"
   },
   "outputs": [
    {
     "ename": "AttributeError",
     "evalue": "ignored",
     "output_type": "error",
     "traceback": [
      "\u001b[0;31m---------------------------------------------------------------------------\u001b[0m",
      "\u001b[0;31mAttributeError\u001b[0m                            Traceback (most recent call last)",
      "\u001b[0;32m<ipython-input-30-96b5630d6524>\u001b[0m in \u001b[0;36m<module>\u001b[0;34m()\u001b[0m\n\u001b[0;32m----> 1\u001b[0;31m \u001b[0mprint\u001b[0m\u001b[0;34m(\u001b[0m\u001b[0mb3\u001b[0m\u001b[0;34m.\u001b[0m\u001b[0m__secret\u001b[0m\u001b[0;34m)\u001b[0m\u001b[0;34m\u001b[0m\u001b[0;34m\u001b[0m\u001b[0m\n\u001b[0m",
      "\u001b[0;31mAttributeError\u001b[0m: 'Book' object has no attribute '__secret'"
     ]
    }
   ],
   "source": [
    "print(b3.__secret)"
   ]
  },
  {
   "cell_type": "code",
   "execution_count": 31,
   "metadata": {
    "colab": {
     "base_uri": "https://localhost:8080/"
    },
    "id": "-EWwmcp2fUR0",
    "outputId": "6e320769-c9f1-42b0-dd4a-857d3af1df44"
   },
   "outputs": [
    {
     "name": "stdout",
     "output_type": "stream",
     "text": [
      "This is a secret attribute\n"
     ]
    }
   ],
   "source": [
    "print(b3._Book__secret)"
   ]
  },
  {
   "cell_type": "code",
   "execution_count": 32,
   "metadata": {
    "colab": {
     "base_uri": "https://localhost:8080/"
    },
    "id": "PPyMANeuK_kP",
    "outputId": "2378c081-32d3-4915-fd54-ecb627d5c07f"
   },
   "outputs": [
    {
     "data": {
      "text/plain": [
       "__main__.Book"
      ]
     },
     "execution_count": 32,
     "metadata": {},
     "output_type": "execute_result"
    }
   ],
   "source": [
    "type(b3)"
   ]
  },
  {
   "cell_type": "code",
   "execution_count": 33,
   "metadata": {
    "colab": {
     "base_uri": "https://localhost:8080/"
    },
    "id": "X7ZrAWC6LJtN",
    "outputId": "ccc0a7b4-2ca2-4e2d-b8d4-562f96e9fdc0"
   },
   "outputs": [
    {
     "name": "stdout",
     "output_type": "stream",
     "text": [
      "True\n",
      "False\n",
      "True\n"
     ]
    }
   ],
   "source": [
    "print(type(b1) == type(b2))\n",
    "print(isinstance(b1, Book))\n",
    "print(isinstance(b1, object)) # In python everything is a subclass of the object class"
   ]
  },
  {
   "cell_type": "markdown",
   "metadata": {
    "id": "uB5y3SMkXLSR"
   },
   "source": [
    "## 2 Inheritance and Composition"
   ]
  },
  {
   "cell_type": "markdown",
   "metadata": {
    "id": "NxwqRlRPi0Pa"
   },
   "source": [
    "### 2.1 Understanding inheritance"
   ]
  },
  {
   "cell_type": "code",
   "execution_count": 35,
   "metadata": {
    "id": "fDsPsl-obhnZ"
   },
   "outputs": [],
   "source": [
    "# Example naive implementation of classes without inheritance\n",
    "class Book:\n",
    "  def __init__(self, title, author, pages, price):\n",
    "    self.title = title\n",
    "    self.price = price\n",
    "    self.author = author\n",
    "    self.pages = pages\n",
    "\n",
    "class Magazine:\n",
    "  def __init__(self, title, publisher, price, period):\n",
    "    self.title = title\n",
    "    self.price = price\n",
    "    self.period = period\n",
    "    self.publisher = publisher\n",
    "\n",
    "class Newspaper:\n",
    "  def __init__(self, title, publisher, price, period):\n",
    "    self.title = title\n",
    "    self.price = price\n",
    "    self.period = period\n",
    "    self.publisher = publisher"
   ]
  },
  {
   "cell_type": "code",
   "execution_count": 36,
   "metadata": {
    "id": "qYY8GxCucxS9"
   },
   "outputs": [],
   "source": [
    "b1 = Book(\"Brave New World\", \"Aldous Huxley\", 311, 29.0)\n",
    "n1 = Newspaper(\"NY Times\", \"New York Times Company\", 6.0, \"Daily\")\n",
    "m1 = Magazine(\"Scientific American\", \"Springer Nature\", 5.99, \"Monthly\")"
   ]
  },
  {
   "cell_type": "code",
   "execution_count": 37,
   "metadata": {
    "colab": {
     "base_uri": "https://localhost:8080/"
    },
    "id": "q1nNtNP4dSSW",
    "outputId": "5c6e7a3a-0540-41c2-b9e8-702db4610633"
   },
   "outputs": [
    {
     "name": "stdout",
     "output_type": "stream",
     "text": [
      "Aldous Huxley\n",
      "New York Times Company\n",
      "29.0 5.99 6.0\n"
     ]
    }
   ],
   "source": [
    "print(b1.author)\n",
    "print(n1.publisher)\n",
    "print(b1.price, m1.price, n1.price)"
   ]
  },
  {
   "cell_type": "code",
   "execution_count": 38,
   "metadata": {
    "id": "WkSnGUqkfdaM"
   },
   "outputs": [],
   "source": [
    "class Publication:\n",
    "  def __init__(self, title, price):\n",
    "    self.title = title\n",
    "    self.price = price\n",
    "\n",
    "class Periodical(Publication):\n",
    "  def __init__(self, title, price, period, publisher):\n",
    "    # Calling the superclass initialization function\n",
    "    super().__init__(title, price)\n",
    "    self.period = period\n",
    "    self.publisher = publisher\n",
    "\n",
    "class Book(Publication):\n",
    "  def __init__(self, title, author, pages, price):\n",
    "    # Calling the superclass initialization function\n",
    "    super().__init__(title, price)\n",
    "    self.author = author\n",
    "    self.pages = pages\n",
    "\n",
    "class Magazine(Periodical):\n",
    "  def __init__(self, title, publisher, price, period):\n",
    "    super().__init__(title, price, period, publisher)\n",
    "\n",
    "class Newspaper(Periodical):\n",
    "  def __init__(self, title, publisher, price, period):\n",
    "    super().__init__(title, price, period, publisher)"
   ]
  },
  {
   "cell_type": "code",
   "execution_count": 39,
   "metadata": {
    "id": "uyzsAphghZ2M"
   },
   "outputs": [],
   "source": [
    "b1 = Book(\"Brave New World\", \"Aldous Huxley\", 311, 29.0)\n",
    "n1 = Newspaper(\"NY Times\", \"New York Times Company\", 6.0, \"Daily\")\n",
    "m1 = Magazine(\"Scientific American\", \"Springer Nature\", 5.99, \"Monthly\")"
   ]
  },
  {
   "cell_type": "code",
   "execution_count": 40,
   "metadata": {
    "colab": {
     "base_uri": "https://localhost:8080/"
    },
    "id": "Qzo5nwjdhalr",
    "outputId": "4dcc9476-ca8e-4377-bdea-d532dadc5baa"
   },
   "outputs": [
    {
     "name": "stdout",
     "output_type": "stream",
     "text": [
      "Aldous Huxley\n",
      "New York Times Company\n",
      "29.0 5.99 6.0\n"
     ]
    }
   ],
   "source": [
    "print(b1.author)\n",
    "print(n1.publisher)\n",
    "print(b1.price, m1.price, n1.price)"
   ]
  },
  {
   "cell_type": "markdown",
   "metadata": {
    "id": "TRJ6oa7Ai3zu"
   },
   "source": [
    "### 2.2 Abstract base classes (ABC)"
   ]
  },
  {
   "cell_type": "code",
   "execution_count": 42,
   "metadata": {
    "id": "ysHSfhU7i622"
   },
   "outputs": [],
   "source": [
    "# Abstract Base Classes to enforce class constraints\n",
    "from abc import ABC, abstractmethod\n",
    "\n",
    "class GraphicShape(ABC):\n",
    "  '''\n",
    "  An ABC (Abstract Base Class) cannot be independently instantiated.\n",
    "  '''\n",
    "  def __init__(self):\n",
    "    super().__init__()\n",
    "\n",
    "  # Abstract method\n",
    "  '''\n",
    "  The abstractmethod decorator tells python that there is no implementation in\n",
    "  the base class, and each subclass has to override this method.\n",
    "  '''\n",
    "  @abstractmethod\n",
    "  def calcArea(self):\n",
    "    pass\n",
    "\n",
    "class Circle(GraphicShape):\n",
    "  def __init__(self, radius):\n",
    "    self.radius = radius\n",
    "\n",
    "  def calcArea(self):\n",
    "    return 3.14 * (self.radius ** 2)\n",
    "\n",
    "class Square(GraphicShape):\n",
    "  def __init__(self, side):\n",
    "    self.side = side\n",
    "\n",
    "  def calcArea(self):\n",
    "    return self.side * self.side"
   ]
  },
  {
   "cell_type": "code",
   "execution_count": 43,
   "metadata": {
    "colab": {
     "base_uri": "https://localhost:8080/",
     "height": 183
    },
    "id": "JVToj-3_kHmb",
    "outputId": "19a2da41-432b-4c1a-fad3-a0cdfa7a313d"
   },
   "outputs": [
    {
     "ename": "TypeError",
     "evalue": "ignored",
     "output_type": "error",
     "traceback": [
      "\u001b[0;31m---------------------------------------------------------------------------\u001b[0m",
      "\u001b[0;31mTypeError\u001b[0m                                 Traceback (most recent call last)",
      "\u001b[0;32m<ipython-input-43-4065721e0e3d>\u001b[0m in \u001b[0;36m<module>\u001b[0;34m()\u001b[0m\n\u001b[1;32m      1\u001b[0m \u001b[0;31m# Trying to instantiate the base class\u001b[0m\u001b[0;34m\u001b[0m\u001b[0;34m\u001b[0m\u001b[0;34m\u001b[0m\u001b[0m\n\u001b[0;32m----> 2\u001b[0;31m \u001b[0mg\u001b[0m \u001b[0;34m=\u001b[0m \u001b[0mGraphicShape\u001b[0m\u001b[0;34m(\u001b[0m\u001b[0;34m)\u001b[0m\u001b[0;34m\u001b[0m\u001b[0;34m\u001b[0m\u001b[0m\n\u001b[0m",
      "\u001b[0;31mTypeError\u001b[0m: Can't instantiate abstract class GraphicShape with abstract methods calcArea"
     ]
    }
   ],
   "source": [
    "# Trying to instantiate the base class\n",
    "g = GraphicShape()"
   ]
  },
  {
   "cell_type": "code",
   "execution_count": 44,
   "metadata": {
    "colab": {
     "base_uri": "https://localhost:8080/"
    },
    "id": "hePWPoa1kOwT",
    "outputId": "6d27e019-e6dc-486c-eecc-f0adeb788e70"
   },
   "outputs": [
    {
     "name": "stdout",
     "output_type": "stream",
     "text": [
      "314.0\n",
      "144\n"
     ]
    }
   ],
   "source": [
    "c = Circle(10)\n",
    "print(c.calcArea())\n",
    "\n",
    "s = Square(12)\n",
    "print(s.calcArea())"
   ]
  },
  {
   "cell_type": "markdown",
   "metadata": {
    "id": "vxUpcBdNkc9d"
   },
   "source": [
    "### 2.3 Multiple Inheritance"
   ]
  },
  {
   "cell_type": "code",
   "execution_count": 50,
   "metadata": {
    "id": "B-WzYdFPkgBt"
   },
   "outputs": [],
   "source": [
    "class A:\n",
    "  def __init__(self):\n",
    "    super().__init__()\n",
    "    self.foo = \"foo\"\n",
    "    self.name = \"Class A\"\n",
    "\n",
    "class B:\n",
    "  def __init__(self):\n",
    "    super().__init__()\n",
    "    self.bar = \"bar\"\n",
    "    self.name = \"Class B\"\n",
    "\n",
    "class C(A, B):\n",
    "  def __init__(self):\n",
    "    super().__init__()\n",
    "  \n",
    "  def showprops(self):\n",
    "    print(self.foo)\n",
    "    print(self.bar)\n",
    "    print(self.name)"
   ]
  },
  {
   "cell_type": "code",
   "execution_count": 60,
   "metadata": {
    "colab": {
     "base_uri": "https://localhost:8080/"
    },
    "id": "uQGbBY2dktd7",
    "outputId": "7c65b2ac-5b18-4e10-c586-c2c3963c31ec"
   },
   "outputs": [
    {
     "name": "stdout",
     "output_type": "stream",
     "text": [
      "foo\n",
      "bar\n",
      "Class A\n"
     ]
    }
   ],
   "source": [
    "'''\n",
    "Method Resolution Order defines the priority to assign attributes if they are\n",
    "shared amongs base classes.\n",
    "The next code block shows why class A name attribute is inherited.\n",
    "'''\n",
    "c = C()\n",
    "c.showprops()"
   ]
  },
  {
   "cell_type": "code",
   "execution_count": 52,
   "metadata": {
    "colab": {
     "base_uri": "https://localhost:8080/"
    },
    "id": "SHqlkiH8lYW1",
    "outputId": "a56968e1-81a2-49e2-857f-ebf4288cc98a"
   },
   "outputs": [
    {
     "name": "stdout",
     "output_type": "stream",
     "text": [
      "(<class '__main__.C'>, <class '__main__.A'>, <class '__main__.B'>, <class 'object'>)\n"
     ]
    }
   ],
   "source": [
    "# Returning class C method resolution order\n",
    "print(C.__mro__)"
   ]
  },
  {
   "cell_type": "code",
   "execution_count": 63,
   "metadata": {
    "colab": {
     "base_uri": "https://localhost:8080/"
    },
    "id": "WTobRfXBuYBr",
    "outputId": "a2bc6b75-05a2-41a3-c598-dc8d2c92ba12"
   },
   "outputs": [
    {
     "name": "stdout",
     "output_type": "stream",
     "text": [
      "True\n",
      "True\n",
      "True\n"
     ]
    }
   ],
   "source": [
    "print(isinstance(c, C))\n",
    "print(isinstance(c, B))\n",
    "print(isinstance(c, A))"
   ]
  },
  {
   "cell_type": "markdown",
   "metadata": {
    "id": "lUP98yUjl4Mj"
   },
   "source": [
    "### 2.4 Interfaces"
   ]
  },
  {
   "cell_type": "code",
   "execution_count": 64,
   "metadata": {
    "id": "mDYy6uEWl5xM"
   },
   "outputs": [],
   "source": [
    "class JSONify(ABC):\n",
    "  '''\n",
    "  Defining a small, focused class to work as an interface. It can then be used\n",
    "  whenever we want another class to be able to indicate that it knows how to\n",
    "  represent itself in JSON.\n",
    "  '''\n",
    "  @abstractmethod\n",
    "  def toJSON(self):\n",
    "    pass\n",
    "\n",
    "class GraphicShape(ABC):\n",
    "  '''\n",
    "  Base class GraphicShape does not need to be modified.\n",
    "  '''\n",
    "  def __init__(self):\n",
    "    super().__init__()\n",
    "\n",
    "  @abstractmethod\n",
    "  def calcArea(self):\n",
    "    pass\n",
    "\n",
    "class Circle(GraphicShape, JSONify):\n",
    "  '''\n",
    "  Multiple inheritance used to implement both abstract base classes, indicating\n",
    "  that the Circle class has both calcArea and toJSON abstract methods.\n",
    "  '''\n",
    "  def __init__(self, radius):\n",
    "    self.radius = radius\n",
    "\n",
    "  def calcArea(self):\n",
    "    return 3.14 * (self.radius ** 2)\n",
    "\n",
    "  def toJSON(self):\n",
    "    return f\"{{\\\" Circle\\\" : {str(self.calcArea())} }}\""
   ]
  },
  {
   "cell_type": "code",
   "execution_count": 65,
   "metadata": {
    "colab": {
     "base_uri": "https://localhost:8080/"
    },
    "id": "BrdHpYVCmG_T",
    "outputId": "c59c66db-a25f-4bf2-ef35-1d2f0e5eca1b"
   },
   "outputs": [
    {
     "name": "stdout",
     "output_type": "stream",
     "text": [
      "314.0\n",
      "{\" Circle\" : 314.0 }\n"
     ]
    }
   ],
   "source": [
    "c = Circle(10)\n",
    "print(c.calcArea())\n",
    "print(c.toJSON())"
   ]
  },
  {
   "cell_type": "markdown",
   "metadata": {
    "id": "6LYwWTxEu7h-"
   },
   "source": [
    "### 2.5 Composition"
   ]
  },
  {
   "cell_type": "code",
   "execution_count": 95,
   "metadata": {
    "id": "-1K8wTQPu-wd"
   },
   "outputs": [],
   "source": [
    "class Author:\n",
    "  def __init__(self, fname, lname):\n",
    "    self.fname = fname\n",
    "    self.lname = lname\n",
    "\n",
    "  def __str__(self):\n",
    "    return f\"{self.fname} {self.lname}\"\n",
    "\n",
    "class Chapter:\n",
    "  def __init__(self, name, pagecount):\n",
    "    self.name = name\n",
    "    self.pagecount = pagecount\n",
    "  \n",
    "class Book:\n",
    "  def __init__(self, title, price, author = None):\n",
    "    self.title = title\n",
    "    self.price = price\n",
    "\n",
    "    self.author = author\n",
    "\n",
    "    self.chapters = []\n",
    "\n",
    "  def addchapter(self, chapter):\n",
    "    self.chapters.append(chapter)\n",
    "  \n",
    "  def getchapters(self):\n",
    "    chapters = [(ch.name, ch.pagecount) for ch in self.chapters]\n",
    "    return chapters\n",
    "\n",
    "  def getbookpagecount(self):\n",
    "    result = 0\n",
    "    for ch in self.chapters:\n",
    "      result += ch.pagecount\n",
    "    return result"
   ]
  },
  {
   "cell_type": "code",
   "execution_count": 96,
   "metadata": {
    "id": "det57atfvR_C"
   },
   "outputs": [],
   "source": [
    "auth = Author(\"Leo\", \"Tolstoy\")\n",
    "b1 = Book(\"War and Peace\", 39.0, auth)\n",
    "\n",
    "b1.addchapter(Chapter(\"Chapter 1\", 125))\n",
    "b1.addchapter(Chapter(\"Chapter 2\", 97))\n",
    "b1.addchapter(Chapter(\"Chapter 3\", 143))"
   ]
  },
  {
   "cell_type": "code",
   "execution_count": 97,
   "metadata": {
    "colab": {
     "base_uri": "https://localhost:8080/"
    },
    "id": "y2B_ybBiveOq",
    "outputId": "d1c403ad-a99a-44e9-f50a-9814d924ecc6"
   },
   "outputs": [
    {
     "name": "stdout",
     "output_type": "stream",
     "text": [
      "War and Peace\n",
      "Leo Tolstoy\n",
      "[('Chapter 1', 125), ('Chapter 2', 97), ('Chapter 3', 143)]\n",
      "365\n"
     ]
    }
   ],
   "source": [
    "print(b1.title)\n",
    "print(b1.author)\n",
    "print(b1.getchapters())\n",
    "print(b1.getbookpagecount())"
   ]
  },
  {
   "cell_type": "code",
   "execution_count": 85,
   "metadata": {
    "colab": {
     "base_uri": "https://localhost:8080/"
    },
    "id": "68MUv-V5yBgK",
    "outputId": "d12d2636-b6c0-4010-bc0e-513bb92d3622"
   },
   "outputs": [
    {
     "data": {
      "text/plain": [
       "[<__main__.Chapter at 0x7f686ea5c990>,\n",
       " <__main__.Chapter at 0x7f686ea5cb10>,\n",
       " <__main__.Chapter at 0x7f686ea5ce90>]"
      ]
     },
     "execution_count": 85,
     "metadata": {},
     "output_type": "execute_result"
    }
   ],
   "source": [
    "b1.chapters"
   ]
  },
  {
   "cell_type": "markdown",
   "metadata": {
    "id": "GBLJzvZx2my4"
   },
   "source": [
    "## 3 Magic Object Methods"
   ]
  },
  {
   "cell_type": "markdown",
   "metadata": {
    "id": "BPCVShrv2qTH"
   },
   "source": [
    "### 3.1 What are magic methods?\n",
    "- Customize object behavior and integrate with the language\n",
    "- Define how objects are represented as strings\n",
    "- Control access to attributes values, both for get and set\n",
    "- Build in comparison and equality testing capabilities\n",
    "- Allow objects to be called like functions"
   ]
  },
  {
   "cell_type": "markdown",
   "metadata": {
    "id": "dyYSWaVO3mqz"
   },
   "source": [
    "### 3.2 String representation"
   ]
  },
  {
   "cell_type": "code",
   "execution_count": 7,
   "metadata": {
    "id": "HaYr3FNY3Zab"
   },
   "outputs": [],
   "source": [
    "# Using the __str__ and __repr__ magic methods\n",
    "\n",
    "class Book:\n",
    "  def __init__(self, title, author, price):\n",
    "    super().__init__()\n",
    "    self.title = title\n",
    "    self.author = author\n",
    "    self.price = price\n",
    "\n",
    "  # Using the __str__ method to return a string\n",
    "  '''\n",
    "  Used to provide a user friendly description of the object, and is generally\n",
    "  intended to be used by the user.\n",
    "  '''\n",
    "  def __str__(self):\n",
    "    return f\"{self.title} by {self.author}, costs {self.price}\"\n",
    "\n",
    "  # Using the __repr__ method to return an object representation\n",
    "  '''\n",
    "  Used to provide a developer image of the object, ideally sufficient to\n",
    "  recreate the object in its' current state.\n",
    "  Commonly used for debugging purposes and to display detailed information.\n",
    "  '''\n",
    "  def __repr__(self):\n",
    "    return f\"title={self.title}, author={self.author}, price={self.price}\""
   ]
  },
  {
   "cell_type": "code",
   "execution_count": 8,
   "metadata": {
    "id": "9HaZ7kJg351S"
   },
   "outputs": [],
   "source": [
    "b1 = Book(\"War and Piece\", \"Leo Tolstoy\", 39.95)\n",
    "b2 = Book(\"The Catcher in the Rye\", \"JD Salinger\", 29.95)"
   ]
  },
  {
   "cell_type": "code",
   "execution_count": 9,
   "metadata": {
    "colab": {
     "base_uri": "https://localhost:8080/"
    },
    "id": "0tPf-7Ka4HBC",
    "outputId": "d5474399-8ac6-4311-9afb-1af5dd723bec"
   },
   "outputs": [
    {
     "name": "stdout",
     "output_type": "stream",
     "text": [
      "War and Piece by Leo Tolstoy, costs 39.95\n",
      "The Catcher in the Rye by JD Salinger, costs 29.95\n",
      "War and Piece by Leo Tolstoy, costs 39.95\n",
      "title=The Catcher in the Rye, author=JD Salinger, price=29.95\n"
     ]
    }
   ],
   "source": [
    "print(b1)\n",
    "print(b2)\n",
    "print(str(b1))\n",
    "print(repr(b2))"
   ]
  },
  {
   "cell_type": "markdown",
   "metadata": {
    "id": "EzfLA9pzGWOm"
   },
   "source": [
    "### 3.3 Equality and comparison"
   ]
  },
  {
   "cell_type": "code",
   "execution_count": 23,
   "metadata": {
    "id": "pjMuX2hXGas6"
   },
   "outputs": [],
   "source": [
    "class Book:\n",
    "  def __init__(self, title, author, price):\n",
    "    super().__init__()\n",
    "    self.title = title\n",
    "    self.author = author\n",
    "    self.price = price\n",
    "  \n",
    "  # __eq__ method for equality between two instances\n",
    "  def __eq__(self, value):\n",
    "    if not isinstance(value, Book):\n",
    "      raise ValueError(\"Can't compare book to non-book\")\n",
    "    return (self.title == value.title and\n",
    "            self.author == value.author and\n",
    "            self.price == value.price)\n",
    "  \n",
    "  # __ge__ method for >= (greater than, or equal to) relationship\n",
    "  def __ge__(self, value):\n",
    "    if not isinstance(value, Book):\n",
    "      raise ValueError(\"Can't compare book to non-book\")\n",
    "    \n",
    "    return self.price >= value.price\n",
    "  \n",
    "  # __lt__ method for < (lower than) relationship\n",
    "  def __lt__(self, value):\n",
    "    if not isinstance(value, Book):\n",
    "      raise ValueError(\"Can't compare book to non-book\")\n",
    "    \n",
    "    return self.price < value.price"
   ]
  },
  {
   "cell_type": "code",
   "execution_count": 24,
   "metadata": {
    "id": "CwyR8nzPGkVY"
   },
   "outputs": [],
   "source": [
    "b1 = Book(\"War and Piece\", \"Leo Tolstoy\", 39.95)\n",
    "b2 = Book(\"The Catcher in the Rye\", \"JD Salinger\", 29.95)\n",
    "b3 = Book(\"War and Piece\", \"Leo Tolstoy\", 39.95)\n",
    "b4 = Book(\"To Kill a Mockingbird\", \"Harper Lee\", 24.95)"
   ]
  },
  {
   "cell_type": "code",
   "execution_count": 25,
   "metadata": {
    "colab": {
     "base_uri": "https://localhost:8080/"
    },
    "id": "FoUITWGQHFpR",
    "outputId": "c2b5ed3c-bf96-459f-a19d-8d75f7be0f8f"
   },
   "outputs": [
    {
     "name": "stdout",
     "output_type": "stream",
     "text": [
      "True\n",
      "False\n"
     ]
    }
   ],
   "source": [
    "# Equality check\n",
    "print(b1 == b3)\n",
    "print(b1 == b2)"
   ]
  },
  {
   "cell_type": "code",
   "execution_count": 26,
   "metadata": {
    "colab": {
     "base_uri": "https://localhost:8080/"
    },
    "id": "2S7K26bwHm8z",
    "outputId": "178ebdd9-ba25-44f5-d1b0-819406d9206e"
   },
   "outputs": [
    {
     "name": "stdout",
     "output_type": "stream",
     "text": [
      "False\n",
      "True\n"
     ]
    }
   ],
   "source": [
    "# Comparison check\n",
    "print(b2 >= b1)\n",
    "print(b2 < b1)"
   ]
  },
  {
   "cell_type": "code",
   "execution_count": 27,
   "metadata": {
    "colab": {
     "base_uri": "https://localhost:8080/"
    },
    "id": "qdcZkvdkH2Q4",
    "outputId": "5829d0cf-3c5a-4677-c9ee-4bcbed4c2198"
   },
   "outputs": [
    {
     "name": "stdout",
     "output_type": "stream",
     "text": [
      "['To Kill a Mockingbird', 'The Catcher in the Rye', 'War and Piece', 'War and Piece']\n"
     ]
    }
   ],
   "source": [
    "# Sorting\n",
    "'''\n",
    "sort() method is now available, after we set __lt__ magic method in our class\n",
    "'''\n",
    "books = [b1, b3, b2, b4]\n",
    "books.sort()\n",
    "print([book.title for book in books])"
   ]
  },
  {
   "cell_type": "markdown",
   "metadata": {
    "id": "exqqjflAIbcG"
   },
   "source": [
    "### 3.4 Attribute access"
   ]
  },
  {
   "cell_type": "code",
   "execution_count": 43,
   "metadata": {
    "id": "rrpmxommIdlY"
   },
   "outputs": [],
   "source": [
    "class Book:\n",
    "  def __init__(self, title, author, price):\n",
    "    super().__init__()\n",
    "    self.title = title\n",
    "    self.author = author\n",
    "    self.price = price\n",
    "    self._discount = 0.1\n",
    "  \n",
    "  def __str__(self):\n",
    "    return f\"{self.title} by {self.author}, costs {round(self.price, 2)}\"\n",
    "  \n",
    "  # __getattribute__ method\n",
    "  '''\n",
    "  __getattribute__ method is called whenever the value of an attribute is\n",
    "  accessed.\n",
    "  A tricky fact about this method is that the method can be called within itself\n",
    "  if not set correctly. Therefore, we cannot refer to any attribute by its name,\n",
    "  instead we need to access it via its superclass version with the super()\n",
    "  method.\n",
    "  '''\n",
    "  def __getattribute__(self, name):\n",
    "    if name == \"price\":\n",
    "      p = super().__getattribute__(\"price\")\n",
    "      d = super().__getattribute__(\"_discount\")      \n",
    "      return p - (p * d)\n",
    "    return super().__getattribute__(name)\n",
    "  \n",
    "  # __setattr__ method\n",
    "  '''\n",
    "  __setattr__ method is called whenever an attribute value is set.\n",
    "  Similar to __getattribute__, your should not set any attribute directly here\n",
    "  to avoid a recursive loop that will cause a crash.\n",
    "  '''\n",
    "  def __setattr__(self, name, value):\n",
    "    if name == \"price\":\n",
    "      if type(value) is not float:\n",
    "        raise ValueError(\"The price attr must be a float\")\n",
    "    return super().__setattr__(name, value)\n",
    "\n",
    "  # __getattr__\n",
    "  '''\n",
    "  __getattr__ works the same way as __getattribute__, however, it only gets\n",
    "  called if:\n",
    "  * __getattribute__ doesn't exist, or\n",
    "  * __getattribute__ raises an error, or\n",
    "  * if the attribute doesn't exist.\n",
    "  It can be used to generate attributes on the fly, or to extend the syntax for\n",
    "  accessing attributes.\n",
    "  '''\n",
    "  def __getattr__(self, name):\n",
    "    return name + \" is not here!\""
   ]
  },
  {
   "cell_type": "code",
   "execution_count": 44,
   "metadata": {
    "id": "XTEhZH3eTYqA"
   },
   "outputs": [],
   "source": [
    "b1 = Book(\"War and Piece\", \"Leo Tolstoy\", 39.95)\n",
    "b2 = Book(\"The Catcher in the Rye\", \"JD Salinger\", 29.95)"
   ]
  },
  {
   "cell_type": "code",
   "execution_count": 40,
   "metadata": {
    "colab": {
     "base_uri": "https://localhost:8080/"
    },
    "id": "YnbKEItNTcKH",
    "outputId": "7e976f0d-e251-418f-8892-680e96b737ce"
   },
   "outputs": [
    {
     "name": "stdout",
     "output_type": "stream",
     "text": [
      "War and Piece by Leo Tolstoy, costs 35.96\n"
     ]
    }
   ],
   "source": [
    "# Price attribute goes through the defined __getattribute__ method when called\n",
    "print(b1)"
   ]
  },
  {
   "cell_type": "code",
   "execution_count": 41,
   "metadata": {
    "colab": {
     "base_uri": "https://localhost:8080/",
     "height": 304
    },
    "id": "Mdp7JKb1Ull4",
    "outputId": "865e81a5-fc19-4ead-857d-08eb250754f9"
   },
   "outputs": [
    {
     "ename": "ValueError",
     "evalue": "ignored",
     "output_type": "error",
     "traceback": [
      "\u001b[0;31m---------------------------------------------------------------------------\u001b[0m",
      "\u001b[0;31mValueError\u001b[0m                                Traceback (most recent call last)",
      "\u001b[0;32m<ipython-input-41-ca4186cbe162>\u001b[0m in \u001b[0;36m<module>\u001b[0;34m()\u001b[0m\n\u001b[1;32m      1\u001b[0m \u001b[0;31m# Price attribute inserted as int, not as float will raise a ValueError\u001b[0m\u001b[0;34m\u001b[0m\u001b[0;34m\u001b[0m\u001b[0;34m\u001b[0m\u001b[0m\n\u001b[0;32m----> 2\u001b[0;31m \u001b[0mb2\u001b[0m\u001b[0;34m.\u001b[0m\u001b[0mprice\u001b[0m \u001b[0;34m=\u001b[0m \u001b[0;36m40\u001b[0m\u001b[0;34m\u001b[0m\u001b[0;34m\u001b[0m\u001b[0m\n\u001b[0m\u001b[1;32m      3\u001b[0m \u001b[0mprint\u001b[0m\u001b[0;34m(\u001b[0m\u001b[0mb2\u001b[0m\u001b[0;34m)\u001b[0m\u001b[0;34m\u001b[0m\u001b[0;34m\u001b[0m\u001b[0m\n",
      "\u001b[0;32m<ipython-input-38-96de184ca9b1>\u001b[0m in \u001b[0;36m__setattr__\u001b[0;34m(self, name, value)\u001b[0m\n\u001b[1;32m     35\u001b[0m     \u001b[0;32mif\u001b[0m \u001b[0mname\u001b[0m \u001b[0;34m==\u001b[0m \u001b[0;34m\"price\"\u001b[0m\u001b[0;34m:\u001b[0m\u001b[0;34m\u001b[0m\u001b[0;34m\u001b[0m\u001b[0m\n\u001b[1;32m     36\u001b[0m       \u001b[0;32mif\u001b[0m \u001b[0mtype\u001b[0m\u001b[0;34m(\u001b[0m\u001b[0mvalue\u001b[0m\u001b[0;34m)\u001b[0m \u001b[0;32mis\u001b[0m \u001b[0;32mnot\u001b[0m \u001b[0mfloat\u001b[0m\u001b[0;34m:\u001b[0m\u001b[0;34m\u001b[0m\u001b[0;34m\u001b[0m\u001b[0m\n\u001b[0;32m---> 37\u001b[0;31m         \u001b[0;32mraise\u001b[0m \u001b[0mValueError\u001b[0m\u001b[0;34m(\u001b[0m\u001b[0;34m\"The price attr must be a float\"\u001b[0m\u001b[0;34m)\u001b[0m\u001b[0;34m\u001b[0m\u001b[0;34m\u001b[0m\u001b[0m\n\u001b[0m\u001b[1;32m     38\u001b[0m     \u001b[0;32mreturn\u001b[0m \u001b[0msuper\u001b[0m\u001b[0;34m(\u001b[0m\u001b[0;34m)\u001b[0m\u001b[0;34m.\u001b[0m\u001b[0m__setattr__\u001b[0m\u001b[0;34m(\u001b[0m\u001b[0mname\u001b[0m\u001b[0;34m,\u001b[0m \u001b[0mvalue\u001b[0m\u001b[0;34m)\u001b[0m\u001b[0;34m\u001b[0m\u001b[0;34m\u001b[0m\u001b[0m\n",
      "\u001b[0;31mValueError\u001b[0m: The price attr must be a float"
     ]
    }
   ],
   "source": [
    "# Price attribute inserted as int, not as float will raise a ValueError\n",
    "b2.price = 40\n",
    "print(b2)"
   ]
  },
  {
   "cell_type": "code",
   "execution_count": 42,
   "metadata": {
    "colab": {
     "base_uri": "https://localhost:8080/"
    },
    "id": "mZLtzlE4UtBI",
    "outputId": "381edeba-e981-4b47-cff1-8dc529dc17f9"
   },
   "outputs": [
    {
     "name": "stdout",
     "output_type": "stream",
     "text": [
      "The Catcher in the Rye by JD Salinger, costs 36.0\n"
     ]
    }
   ],
   "source": [
    "b2.price = float(40)\n",
    "print(b2)"
   ]
  },
  {
   "cell_type": "code",
   "execution_count": 45,
   "metadata": {
    "colab": {
     "base_uri": "https://localhost:8080/"
    },
    "id": "-pNyXKsZWRQA",
    "outputId": "e7fe37b8-9144-407a-fac3-263e1fe4740b"
   },
   "outputs": [
    {
     "name": "stdout",
     "output_type": "stream",
     "text": [
      "randomprop is not here!\n"
     ]
    }
   ],
   "source": [
    "print(b1.randomprop)"
   ]
  },
  {
   "cell_type": "markdown",
   "metadata": {
    "id": "h88SmK8tWnkN"
   },
   "source": [
    "### 3.5 Callable objects"
   ]
  },
  {
   "cell_type": "code",
   "execution_count": 46,
   "metadata": {
    "id": "JeAdoVMoWrue"
   },
   "outputs": [],
   "source": [
    "class Book:\n",
    "  def __init__(self, title, author, price):\n",
    "    super().__init__()\n",
    "    self.title = title\n",
    "    self.author = author\n",
    "    self.price = price\n",
    "  \n",
    "  def __str__(self):\n",
    "    return f\"{self.title} by {self.author}, costs {round(self.price, 2)}\"\n",
    "\n",
    "  # __call__\n",
    "  '''\n",
    "  Enables the object to be called like a function.\n",
    "  '''\n",
    "  def __call__(self, title, author, price):\n",
    "    self.title = title\n",
    "    self.author = author\n",
    "    self.price = price"
   ]
  },
  {
   "cell_type": "code",
   "execution_count": 47,
   "metadata": {
    "id": "XKegIgCGW31A"
   },
   "outputs": [],
   "source": [
    "b1 = Book(\"War and Piece\", \"Leo Tolstoy\", 39.95)\n",
    "b2 = Book(\"The Catcher in the Rye\", \"JD Salinger\", 29.95)"
   ]
  },
  {
   "cell_type": "code",
   "execution_count": 48,
   "metadata": {
    "colab": {
     "base_uri": "https://localhost:8080/"
    },
    "id": "B7cscJHkXaRQ",
    "outputId": "ff1428c7-de97-4986-ffae-0031da4afc70"
   },
   "outputs": [
    {
     "name": "stdout",
     "output_type": "stream",
     "text": [
      "War and Piece by Leo Tolstoy, costs 39.95\n",
      "Anna Karenina by Leo Tolstoy, costs 49.5\n"
     ]
    }
   ],
   "source": [
    "print(b1)\n",
    "b1(\"Anna Karenina\", \"Leo Tolstoy\", 49.50)\n",
    "print(b1)"
   ]
  },
  {
   "cell_type": "markdown",
   "metadata": {
    "id": "Of5e0jn3s73f"
   },
   "source": [
    "## 4 Data Classes"
   ]
  },
  {
   "cell_type": "markdown",
   "metadata": {
    "id": "DCXXrXuwu7UM"
   },
   "source": [
    "### 4.1 Defining a data class\n",
    "Data classes were introduced in python 3.7 and are used to represent data objects"
   ]
  },
  {
   "cell_type": "markdown",
   "metadata": {
    "id": "wJ2cdkzVwcqz"
   },
   "source": [
    "### 4.2 Post initialization\n",
    "Since the dataclass implements the __init__ method by default, another alternative way to initialize attributes is using the __post_init__ method."
   ]
  },
  {
   "cell_type": "code",
   "execution_count": 1,
   "metadata": {
    "id": "l3c1Pev0u96c"
   },
   "outputs": [],
   "source": [
    "from dataclasses import dataclass\n",
    "\n",
    "@dataclass\n",
    "class Book:\n",
    "  '''\n",
    "  Dataclasses are a concise way to define classes attributes. It simplfies the\n",
    "  __init__ method by defining attributes with less redundant code.\n",
    "  Besides the __initi__, it also comes with other pre-defined methods such as\n",
    "  __repr__ for instance representation and __eq__ for instance equality.\n",
    "  '''\n",
    "  title: str\n",
    "  author: str\n",
    "  pages: int\n",
    "  price: float\n",
    "\n",
    "  # Post initialization\n",
    "  '''\n",
    "  When the dataclass finished initializing the main attributes, the redefined\n",
    "  __post_init__ method is called and any additional attribute can be created in\n",
    "  post_init.\n",
    "  '''\n",
    "  def __post_init__(self):\n",
    "    self.description = f\"{self.title} by {self.author}, {self.pages} pages\"\n",
    "\n",
    "  # Method\n",
    "  '''\n",
    "  A dataclass works as a normal class. Methods can be defined in the same way.\n",
    "  '''\n",
    "  def bookinfo(self):\n",
    "    return f\"{self.title}, by {self.author}\""
   ]
  },
  {
   "cell_type": "code",
   "execution_count": 2,
   "metadata": {
    "colab": {
     "base_uri": "https://localhost:8080/"
    },
    "id": "iFL1lB1lvkTe",
    "outputId": "07e930e2-deb9-46d2-b87e-b232965ee10f"
   },
   "outputs": [
    {
     "name": "stdout",
     "output_type": "stream",
     "text": [
      "Anna Karenina, by Leo Tolstoy\n",
      "War and Piece by Leo Tolstoy, 1225 pages\n",
      "The Catcher in the Rye by JD Salinger, 234 pages\n"
     ]
    }
   ],
   "source": [
    "b1 = Book(\"War and Piece\", \"Leo Tolstoy\", 1225, 39.95)\n",
    "b2 = Book(\"The Catcher in the Rye\", \"JD Salinger\", 234, 29.95)\n",
    "\n",
    "# Modifying attributes from Book objects\n",
    "b1.title = \"Anna Karenina\"\n",
    "b1.pages = 864\n",
    "\n",
    "print(b1.bookinfo())\n",
    "print(b1.description)\n",
    "print(b2.description)"
   ]
  },
  {
   "cell_type": "markdown",
   "metadata": {
    "id": "O5vwG-hrxjWG"
   },
   "source": [
    "### 4.3 Using default values"
   ]
  },
  {
   "cell_type": "code",
   "execution_count": 6,
   "metadata": {
    "id": "W5fzT_4sxgrm"
   },
   "outputs": [],
   "source": [
    "# Implementing default values\n",
    "from dataclasses import field\n",
    "import random\n",
    "\n",
    "def price_func():\n",
    "  return float(random.randrange(20, 40))\n",
    "\n",
    "@dataclass\n",
    "class Book:\n",
    "  '''\n",
    "  Default values can be specified for attributes as if they were declared in the\n",
    "  __init__ function.\n",
    "  Attributes without default values have to come first.\n",
    "  '''\n",
    "  title: str = \"No Title\"\n",
    "  author: str = \"No Author\"\n",
    "  pages: int = 0\n",
    "  # Field function\n",
    "  '''\n",
    "  The field function provides more flexibility, such as allowing a function to\n",
    "  be called before assigning default values, through the default_factory\n",
    "  argument.\n",
    "  '''\n",
    "  price: float = field(default_factory=price_func)"
   ]
  },
  {
   "cell_type": "code",
   "execution_count": 4,
   "metadata": {
    "colab": {
     "base_uri": "https://localhost:8080/"
    },
    "id": "PRf4t2EyaTdj",
    "outputId": "5c47df47-cd4a-4290-c98a-7ab6bbfe49d1"
   },
   "outputs": [
    {
     "name": "stdout",
     "output_type": "stream",
     "text": [
      "Book(title='No Title', author='No Author', pages=0, price=0.0)\n"
     ]
    }
   ],
   "source": [
    "b1 = Book()\n",
    "print(b1)"
   ]
  },
  {
   "cell_type": "code",
   "execution_count": 7,
   "metadata": {
    "colab": {
     "base_uri": "https://localhost:8080/"
    },
    "id": "XB0_oi0ncfvp",
    "outputId": "3615f74a-db2f-458d-8f06-ed33f0d6bc5a"
   },
   "outputs": [
    {
     "name": "stdout",
     "output_type": "stream",
     "text": [
      "Book(title='War and Piece', author='Leo Tolstoy', pages=1225, price=23.0)\n",
      "Book(title='The Catcher in the Rye', author='JD Salinger', pages=234, price=34.0)\n"
     ]
    }
   ],
   "source": [
    "b1 = Book(\"War and Piece\", \"Leo Tolstoy\", 1225)\n",
    "b2 = Book(\"The Catcher in the Rye\", \"JD Salinger\", 234)\n",
    "print(b1)\n",
    "print(b2)"
   ]
  },
  {
   "cell_type": "markdown",
   "metadata": {
    "id": "BxMTvzesdMCo"
   },
   "source": [
    "### 4.4 Immutable data classes"
   ]
  },
  {
   "cell_type": "code",
   "execution_count": 10,
   "metadata": {
    "id": "AG7tTBgqdNka"
   },
   "outputs": [],
   "source": [
    "# Immutable dataclass\n",
    "'''\n",
    "Frozen argument prevents the attributes from the instances to be changed, after\n",
    "assigned. It also stops internal methods to alter the attributes.\n",
    "'''\n",
    "@dataclass(frozen = True)\n",
    "class ImmutableClass:\n",
    "  value1: str = \"Value 1\"\n",
    "  value2: int = 0"
   ]
  },
  {
   "cell_type": "code",
   "execution_count": 11,
   "metadata": {
    "colab": {
     "base_uri": "https://localhost:8080/"
    },
    "id": "YdL1XdaldZc6",
    "outputId": "6dde0e89-53cc-4d00-dcb0-5657c3079e53"
   },
   "outputs": [
    {
     "name": "stdout",
     "output_type": "stream",
     "text": [
      "Value 1\n"
     ]
    }
   ],
   "source": [
    "obj = ImmutableClass()\n",
    "print(obj.value1)"
   ]
  },
  {
   "cell_type": "code",
   "execution_count": 12,
   "metadata": {
    "colab": {
     "base_uri": "https://localhost:8080/",
     "height": 217
    },
    "id": "IRwbtEMcdpnK",
    "outputId": "2a6a62b7-df5e-48fe-8277-4ea3c655c47a"
   },
   "outputs": [
    {
     "ename": "FrozenInstanceError",
     "evalue": "ignored",
     "output_type": "error",
     "traceback": [
      "\u001b[0;31m---------------------------------------------------------------------------\u001b[0m",
      "\u001b[0;31mFrozenInstanceError\u001b[0m                       Traceback (most recent call last)",
      "\u001b[0;32m<ipython-input-12-da4ce3e9d8d3>\u001b[0m in \u001b[0;36m<module>\u001b[0;34m()\u001b[0m\n\u001b[0;32m----> 1\u001b[0;31m \u001b[0mobj\u001b[0m\u001b[0;34m.\u001b[0m\u001b[0mvalue1\u001b[0m \u001b[0;34m=\u001b[0m \u001b[0;34m\"Another Value\"\u001b[0m\u001b[0;34m\u001b[0m\u001b[0;34m\u001b[0m\u001b[0m\n\u001b[0m\u001b[1;32m      2\u001b[0m \u001b[0mprint\u001b[0m\u001b[0;34m(\u001b[0m\u001b[0mobj\u001b[0m\u001b[0;34m.\u001b[0m\u001b[0mvalue1\u001b[0m\u001b[0;34m)\u001b[0m\u001b[0;34m\u001b[0m\u001b[0;34m\u001b[0m\u001b[0m\n",
      "\u001b[0;32m<string>\u001b[0m in \u001b[0;36m__setattr__\u001b[0;34m(self, name, value)\u001b[0m\n",
      "\u001b[0;31mFrozenInstanceError\u001b[0m: cannot assign to field 'value1'"
     ]
    }
   ],
   "source": [
    "obj.value1 = \"Another Value\"\n",
    "print(obj.value1)"
   ]
  },
  {
   "cell_type": "markdown",
   "metadata": {
    "id": "IM0Kt2vmffyh"
   },
   "source": [
    "## 5 Extra: Properties\n",
    "Extra content inspired by [The @property Decorator in Python](https://www.freecodecamp.org/news/python-property-decorator/), by Estefania Cassingena Navone, at freeCodeCamp. "
   ]
  },
  {
   "cell_type": "markdown",
   "metadata": {
    "id": "yKe9CluXfk0M"
   },
   "source": [
    "### 5.1 Advantages of Properties in Python\n",
    "Properties can be considered the \"Pythonic\" way of working with attributes because:\n",
    "\n",
    "- The syntax used to define properties is very concise and readable.\n",
    "- You can access instance attributes exactly as if they were public attributes while using the \"magic\" of intermediaries (getters and setters) to validate new values and to avoid accessing or modifying the data directly.\n",
    "- By using @property, you can \"reuse\" the name of a property to avoid creating new names for the getters, setters, and deleters."
   ]
  },
  {
   "cell_type": "code",
   "execution_count": 26,
   "metadata": {
    "colab": {
     "base_uri": "https://localhost:8080/"
    },
    "id": "SYHvUw0yf-O3",
    "outputId": "f9620833-15fc-4d56-e07b-654185bed93d"
   },
   "outputs": [
    {
     "name": "stdout",
     "output_type": "stream",
     "text": [
      "Extra Functionality - Adding\n",
      "5\n",
      "Initial Functionality - Multiplying\n"
     ]
    },
    {
     "data": {
      "text/plain": [
       "6"
      ]
     },
     "execution_count": 26,
     "metadata": {},
     "output_type": "execute_result"
    }
   ],
   "source": [
    "# Decorator\n",
    "'''\n",
    "The decorator function defined at the beginning can be assigned as an extra\n",
    "functionality to the main function itself, that follows the @decorator method.\n",
    "'''\n",
    "def decorator(f):\n",
    "  '''\n",
    "  The decorator function receives f as an argument, which is then called inside\n",
    "  the new_function, so the original functionality of the main function is\n",
    "  mantained.\n",
    "  '''\n",
    "  def new_function(a, b):\n",
    "    print(\"Extra Functionality - Adding\")\n",
    "    c = a + b\n",
    "    print(c)            # Printing the new functionality\n",
    "    return f(a, b)      # Returning the initial function\n",
    "  return new_function   # Executing inside function\n",
    "\n",
    "'''\n",
    "Usually the naming in the decorator function is matched in the decorator itself\n",
    "'''\n",
    "@decorator\n",
    "def initial_function(a, b):\n",
    "  print(\"Initial Functionality - Multiplying\")\n",
    "  c = a * b\n",
    "  return c\n",
    "\n",
    "initial_function(2, 3)"
   ]
  },
  {
   "cell_type": "markdown",
   "metadata": {
    "id": "rky82z1El-EK"
   },
   "source": [
    "### 5.2 Property syntax and logic"
   ]
  },
  {
   "cell_type": "code",
   "execution_count": 44,
   "metadata": {
    "id": "elFLDxXkl83R"
   },
   "outputs": [],
   "source": [
    "# Getter\n",
    "'''\n",
    "@property is used to indicate we are going to define a property.\n",
    "The name of the getter is exactly like the property being defined: price.\n",
    "'''\n",
    "\n",
    "# Setter\n",
    "'''\n",
    "@price.setter indicates the setter method, for the price property.\n",
    "The name of the getter is exactly like the property being defined: price.\n",
    "new_price is a second formal parameter, the value to be assigned to the\n",
    "price attribute.\n",
    "'''\n",
    "\n",
    "# Deleter\n",
    "'''\n",
    "@price.deleter indicates the deleter method, for the price property.\n",
    "Without a deleter method, trying to pass del obj.price would raise an \n",
    "AttributeError: can't delete attribute.\n",
    "'''\n",
    "\n",
    "class House:\n",
    "\n",
    "\tdef __init__(self, price):\n",
    "\t\tself._price = price\n",
    "\n",
    "\t@property\n",
    "\tdef price(self):\n",
    "\t\treturn self._price\n",
    "\t\n",
    "\t@price.setter\n",
    "\tdef price(self, new_price):\n",
    "\t\tif new_price > 0 and isinstance(new_price, float):\n",
    "\t\t\tself._price = new_price\n",
    "\t\telse:\n",
    "\t\t\tprint(\"Please enter a valid price\")\n",
    "\n",
    "\t@price.deleter\n",
    "\tdef price(self):\n",
    "\t\tdel self._price"
   ]
  },
  {
   "cell_type": "code",
   "execution_count": 45,
   "metadata": {
    "colab": {
     "base_uri": "https://localhost:8080/"
    },
    "id": "uHtyulk_puEL",
    "outputId": "45afef41-91d8-4e96-f6b7-b89e586ab737"
   },
   "outputs": [
    {
     "data": {
      "text/plain": [
       "50000.0"
      ]
     },
     "execution_count": 45,
     "metadata": {},
     "output_type": "execute_result"
    }
   ],
   "source": [
    "house_A = House(50000.0)\n",
    "\n",
    "# Accessing price through the getter method\n",
    "house_A.price"
   ]
  },
  {
   "cell_type": "code",
   "execution_count": 46,
   "metadata": {
    "colab": {
     "base_uri": "https://localhost:8080/"
    },
    "id": "mkHt0DLqp7Eg",
    "outputId": "09aa45fa-1211-48f1-9fcd-b13cf52d2d44"
   },
   "outputs": [
    {
     "name": "stdout",
     "output_type": "stream",
     "text": [
      "Please enter a valid price\n"
     ]
    }
   ],
   "source": [
    "# Setter method and check functionality doesn't allow non-floats\n",
    "house_A.price = 40000"
   ]
  },
  {
   "cell_type": "code",
   "execution_count": 47,
   "metadata": {
    "colab": {
     "base_uri": "https://localhost:8080/"
    },
    "id": "ELbgr8cCqCWI",
    "outputId": "ca80ef9e-96ee-4d6f-d843-243aece7dcc4"
   },
   "outputs": [
    {
     "data": {
      "text/plain": [
       "40000.0"
      ]
     },
     "execution_count": 47,
     "metadata": {},
     "output_type": "execute_result"
    }
   ],
   "source": [
    "house_A.price = 40000.0\n",
    "house_A.price"
   ]
  },
  {
   "cell_type": "code",
   "execution_count": 48,
   "metadata": {
    "colab": {
     "base_uri": "https://localhost:8080/",
     "height": 321
    },
    "id": "Qhpyguq8qHMf",
    "outputId": "c521a694-48d4-4d8d-87cd-cc750438a272"
   },
   "outputs": [
    {
     "ename": "AttributeError",
     "evalue": "ignored",
     "output_type": "error",
     "traceback": [
      "\u001b[0;31m---------------------------------------------------------------------------\u001b[0m",
      "\u001b[0;31mAttributeError\u001b[0m                            Traceback (most recent call last)",
      "\u001b[0;32m<ipython-input-48-9b937caf3770>\u001b[0m in \u001b[0;36m<module>\u001b[0;34m()\u001b[0m\n\u001b[1;32m      1\u001b[0m \u001b[0;31m# Deleter method\u001b[0m\u001b[0;34m\u001b[0m\u001b[0;34m\u001b[0m\u001b[0;34m\u001b[0m\u001b[0m\n\u001b[1;32m      2\u001b[0m \u001b[0;32mdel\u001b[0m \u001b[0mhouse_A\u001b[0m\u001b[0;34m.\u001b[0m\u001b[0mprice\u001b[0m\u001b[0;34m\u001b[0m\u001b[0;34m\u001b[0m\u001b[0m\n\u001b[0;32m----> 3\u001b[0;31m \u001b[0mhouse_A\u001b[0m\u001b[0;34m.\u001b[0m\u001b[0mprice\u001b[0m\u001b[0;34m\u001b[0m\u001b[0;34m\u001b[0m\u001b[0m\n\u001b[0m",
      "\u001b[0;32m<ipython-input-44-815e21faf3c9>\u001b[0m in \u001b[0;36mprice\u001b[0;34m(self)\u001b[0m\n\u001b[1;32m     27\u001b[0m         \u001b[0;34m@\u001b[0m\u001b[0mproperty\u001b[0m\u001b[0;34m\u001b[0m\u001b[0;34m\u001b[0m\u001b[0m\n\u001b[1;32m     28\u001b[0m         \u001b[0;32mdef\u001b[0m \u001b[0mprice\u001b[0m\u001b[0;34m(\u001b[0m\u001b[0mself\u001b[0m\u001b[0;34m)\u001b[0m\u001b[0;34m:\u001b[0m\u001b[0;34m\u001b[0m\u001b[0;34m\u001b[0m\u001b[0m\n\u001b[0;32m---> 29\u001b[0;31m                 \u001b[0;32mreturn\u001b[0m \u001b[0mself\u001b[0m\u001b[0;34m.\u001b[0m\u001b[0m_price\u001b[0m\u001b[0;34m\u001b[0m\u001b[0;34m\u001b[0m\u001b[0m\n\u001b[0m\u001b[1;32m     30\u001b[0m \u001b[0;34m\u001b[0m\u001b[0m\n\u001b[1;32m     31\u001b[0m         \u001b[0;34m@\u001b[0m\u001b[0mprice\u001b[0m\u001b[0;34m.\u001b[0m\u001b[0msetter\u001b[0m\u001b[0;34m\u001b[0m\u001b[0;34m\u001b[0m\u001b[0m\n",
      "\u001b[0;31mAttributeError\u001b[0m: 'House' object has no attribute '_price'"
     ]
    }
   ],
   "source": [
    "# Deleter method\n",
    "del house_A.price\n",
    "house_A.price"
   ]
  }
 ],
 "metadata": {
  "colab": {
   "collapsed_sections": [],
   "name": "Python_OOP.ipynb",
   "provenance": [],
   "toc_visible": true
  },
  "kernelspec": {
   "display_name": "Python 3",
   "language": "python",
   "name": "python3"
  },
  "language_info": {
   "codemirror_mode": {
    "name": "ipython",
    "version": 3
   },
   "file_extension": ".py",
   "mimetype": "text/x-python",
   "name": "python",
   "nbconvert_exporter": "python",
   "pygments_lexer": "ipython3",
   "version": "3.8.8"
  }
 },
 "nbformat": 4,
 "nbformat_minor": 1
}
